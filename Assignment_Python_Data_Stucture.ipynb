{
  "nbformat": 4,
  "nbformat_minor": 0,
  "metadata": {
    "colab": {
      "provenance": []
    },
    "kernelspec": {
      "name": "python3",
      "display_name": "Python 3"
    },
    "language_info": {
      "name": "python"
    }
  },
  "cells": [
    {
      "cell_type": "code",
      "execution_count": null,
      "metadata": {
        "id": "sNgW1_48_DeT"
      },
      "outputs": [],
      "source": []
    },
    {
      "cell_type": "markdown",
      "source": [
        "# 1. What are data structures, and why are they important?\n",
        "\n",
        "Ans:**1.What Are Data Structures?**\n",
        "\n",
        "A data structure is a way to organize, store, and manage data in a computer so that it can be used efficiently.\n",
        "\n",
        "Examples include:\n",
        "\n",
        "List - ordered collection of items\n",
        "\n",
        "Tuple - immutable sequence of items\n",
        "\n",
        "Dictionary - key-value pairs\n",
        "\n",
        "Set - unique items\n",
        "\n",
        "Stack / Queue / Tree / Graph - more advanced structures\n",
        "\n",
        "2.**Why Are Data Structures Important?**\n",
        "\n",
        "Efficient Data Storage\n",
        "\n",
        "They allow you to store large amounts of data efficiently in memory.\n",
        "\n",
        "Fast Data Access and Modification\n",
        "\n",
        "Different structures are optimized for specific operations:\n",
        "\n",
        "Lists : fast access by index\n",
        "\n",
        "Dictionaries : fast access by key\n",
        "\n",
        "Sets : fast membership checks\n",
        "\n",
        "Better Organization\n",
        "\n",
        "Data structures help organize data logically, making programs easier to understand and maintain.\n",
        "\n",
        "Solve Complex Problems\n",
        "\n",
        "Many algorithms rely on specific data structures (e.g., graph algorithms, search algorithms).\n",
        "\n",
        "Memory Optimization\n",
        "\n",
        "Choosing the right data structure helps reduce memory usage and improve performance."
      ],
      "metadata": {
        "id": "BmmdGhoq_O4Y"
      }
    },
    {
      "cell_type": "markdown",
      "source": [
        "# 2 .Explain the difference between mutable and immutable data types with examples.\n",
        "\n",
        "Ans.\n",
        "\n",
        "**Mutable Data Types**\n",
        "\n",
        "These can be changed after they’re created. You can modify, add, or remove elements.\n",
        "Examples:\n",
        "List\n",
        "\n",
        "Dictionary\n",
        "\n",
        "Set\n",
        "\n",
        "Eg:\n",
        "\n",
        "my_list = [1, 2, 3]\n",
        "\n",
        "my_list[0] = 99\n",
        "\n",
        "print(my_list)       # Output: [99, 2, 3]\n",
        "\n",
        "**Immutable Data Types**\n",
        "\n",
        "These cannot be changed once created. If you want a change, you must create a new object.\n",
        "\n",
        "Examples:\n",
        "\n",
        "Tuple\n",
        "\n",
        "String\n",
        "\n",
        "Integer\n",
        "\n",
        "Float\n",
        "\n",
        " Example:\n",
        "\n",
        "my_string = \"hello\"\n",
        "\n",
        "my_string[0] = \"H\"  \n",
        "\n"
      ],
      "metadata": {
        "id": "IwtlQTx1_RoM"
      }
    },
    {
      "cell_type": "markdown",
      "source": [
        "\n",
        "# 3.What are the main differences between lists and tuples in Python?\n",
        "Ans.\n",
        "\n",
        "**Lists** — Flexible and Changeable\n",
        " Mutable: we can change, add, or remove items.\n",
        "\n",
        " Syntax: Use square brackets [ ]\n",
        "\n",
        " Slower: Slightly less efficient than tuples.\n",
        "\n",
        " Use case: When you need to modify the data.\n",
        "\n",
        " eg:\n",
        " my_list = [1, 2, 3]\n",
        " my_list[0] = 99  \n",
        "\n",
        " **Tuples** — Fixed and Reliable\n",
        " Immutable: we cannot change items once created.\n",
        "\n",
        " Syntax: Use parentheses ( )\n",
        "\n",
        " Faster: More memory-efficient and quicker.\n",
        "\n",
        " Use case: When data should stay constant.\n",
        "\n",
        " my_tuple = (1, 2, 3)\n",
        "\n",
        "\n",
        "\n"
      ],
      "metadata": {
        "id": "0j_-eeDu_R6b"
      }
    },
    {
      "cell_type": "markdown",
      "source": [
        "\n",
        "# 4.Describe how dictionaries store data\n",
        " Ans: A dictionary stores data as key-value pairs.\n",
        "\n",
        "Example: {\"name\": \"Alice\", \"age\": 30}\n",
        "\n",
        "\"name\" is the key, \"Alice\" is the value\n",
        "\n",
        "\"age\" is the key, 30 is the value\n",
        "\n",
        "Keys are unique and must be immutable (like strings, numbers, or tuples).\n",
        "\n",
        "Values can be anything (numbers, strings, lists, etc.).\n",
        "\n",
        "Internally, Python uses a hash table to store keys, so we can access values very quickly using their key.\n",
        "\n",
        "Dictionaries are mutable, so you can add, update, or remove key-value pairs.\n",
        "\n",
        "Example:\n",
        "\n",
        "person = {\"name\": \"Alice\", \"age\": 30}\n",
        "person[\"city\"] = \"Paris\"    # Add new key-value\n",
        "print(person[\"name\"])       # Access value\n",
        "\n",
        "\n"
      ],
      "metadata": {
        "id": "YU2lf3xu_SFW"
      }
    },
    {
      "cell_type": "markdown",
      "source": [
        "# 5.Why might you use a set instead of a list in Python?\n",
        "\n",
        "Ans: Uniqueness of Elements\n",
        "\n",
        "Sets automatically remove duplicates.\n",
        "\n",
        "Example:\n",
        "\n",
        "my_list = [1, 2, 2, 3]\n",
        "my_set = set(my_list)\n",
        "print(my_set)  # Output: {1, 2, 3}\n",
        "\n",
        "\n",
        "Faster Membership Testing\n",
        "\n",
        "Checking if an item exists in a set is faster than in a list (average O(1) vs O(n)).\n",
        "\n",
        "Example:\n",
        "\n",
        "my_set = {1, 2, 3}\n",
        "print(2 in my_set)  # Fast\n",
        "\n",
        "\n",
        "Set Operations\n",
        "\n",
        "Sets support union, intersection, difference, etc., which are very handy for tasks involving comparisons between groups of items.\n",
        "\n",
        "Example:\n",
        "\n",
        "a = {1, 2, 3}\n",
        "b = {3, 4, 5}\n",
        "print(a & b)  # Intersection: {3}\n",
        "\n",
        "\n",
        "No Order Needed\n",
        "\n",
        "Use a set when order doesn’t matter, and we just care about membership or uniqueness.\n",
        "\n",
        "**Use a list for ordered collections and duplicates.**\n",
        "\n",
        "**Use a set when you want unique items, fast membership checks, and set operations.**"
      ],
      "metadata": {
        "id": "jMxiKPUd_SQA"
      }
    },
    {
      "cell_type": "markdown",
      "source": [
        "# 6.What is a string in Python, and how is it different from a list\n",
        "\n",
        "Ans: A string in Python is a sequence of characters, like letters, numbers, or symbols, enclosed in quotes. A list is a sequence of items, which can be of any type—including strings, numbers, or even other lists.\n",
        "\n",
        "A string is used to store text.\n",
        "\n",
        "It's written inside single ' ' or double \" \" quotes.\n",
        "\n",
        "eg:\n",
        "my_string = \"Hello, world!\"\n",
        "\n",
        "String: sequence of characters, cannot be changed.\n",
        "\n",
        "List: sequence of items, can be changed and can contain multiple data types.\n",
        "\n",
        "\n"
      ],
      "metadata": {
        "id": "Vn16oA_f_SZ7"
      }
    },
    {
      "cell_type": "markdown",
      "source": [
        "7.How do tuples ensure data integrity in Python?\n",
        "\n",
        "Ans: Here is a explanation of how tuples ensure data integrity in Python:\n",
        "\n",
        "1.**Immutability**\n",
        "\n",
        "Tuples are immutable, meaning once a tuple is created, its contents cannot be changed.\n",
        "\n",
        "This ensures that the data stored in a tuple remains safe from accidental modification.\n",
        "\n",
        "coordinates = (10, 20)\n",
        "*coordinates[0] = 15  # This will raise an error\n",
        "\n",
        "2.**Predictable and Reliable Data**\n",
        "\n",
        "Because the values cannot change, tuples are often used to store data that should remain constant throughout the program.\n",
        "\n",
        "Example: storing fixed coordinates, configuration settings, or database keys.\n",
        "\n",
        "3.**Hashable Keys**\n",
        "\n",
        "Since tuples are immutable, they can be used as keys in dictionaries (lists cannot).\n",
        "\n",
        "This ensures data integrity when using tuples as unique identifiers.\n",
        "\n",
        "location_data = { (10, 20): \"Park\", (30, 40): \"School\" }\n",
        "print(location_data[(10, 20)])  # Output: Park\n",
        "\n",
        "4.**Prevents Side Effects**\n",
        "\n",
        "Passing tuples to functions is safer because the function cannot accidentally modify the data inside.\n",
        "\n",
        "def modify_data(data):\n",
        "    # data[0] = 100  # Error if data is a tuple\n",
        "    return sum(data)\n",
        "\n",
        "my_tuple = (1, 2, 3)\n",
        "print(modify_data(my_tuple))  # Output: 6\n",
        "\n",
        "Tuples protect data from change\n",
        "\n",
        "Ensure reliable and predictable values\n",
        "\n",
        "Can be used as dictionary keys\n",
        "\n",
        "Useful for critical or fixed data where integrity matters"
      ],
      "metadata": {
        "id": "nH0g5qR4_SiA"
      }
    },
    {
      "cell_type": "markdown",
      "source": [
        "# 7.How do tuples ensure data integrity in Python?\n",
        "\n",
        "Ans.Tuples ensure data integrity in Python by being immutable, which means their contents cannot be changed after creation. This immutability offers several key protections:\n",
        "\n",
        " 1.**Prevents Accidental Changes**\n",
        "Once a tuple is created, you can't modify, add, or remove elements. This helps keep your data safe from unintended edits.\n",
        "\n",
        "e.g:\n",
        "user_info = (\"Asha\", 25, \"Pune\")\n",
        "user_info[1] = 30  #  Error — tuples are immutable\n",
        "\n",
        " 2.**Reliable Structure**\n",
        "Tuples maintain a fixed order and length, which makes them ideal for storing structured data like coordinates, dates, or records.\n",
        "\n",
        "e.g:\n",
        "coordinates = (18.5204, 73.8567)  # Latitude, Longitude\n",
        "\n",
        " 3.**Safe for Dictionary Keys**\n",
        "Because tuples are immutable, they can be used as keys in dictionaries, unlike lists. This allows for consistent and secure mapping.\n",
        "\n",
        "e.g:\n",
        "location_data = {\n",
        "    (18.5204, 73.8567): \"Pune\"\n",
        "}\n",
        "\n",
        " 4.**Thread-Safe and Predictable**\n",
        "In multi-threaded programs, immutable objects like tuples are safer because they can't be changed by other threads, reducing bugs and race conditions."
      ],
      "metadata": {
        "id": "xy01yjMX_SqV"
      }
    },
    {
      "cell_type": "markdown",
      "source": [
        "\n",
        "# 8.What is a hash table, and how does it relate to dictionaries in Python?\n",
        "Ans: A hash table is a data structure that stores data using a key.\n",
        "\n",
        "It uses a hash function to convert a key into a unique index (called a hash) in memory.\n",
        "\n",
        "This allows very fast access, insertion, and deletion of data (average O(1) time complexity).\n",
        "\n",
        "Example:\n",
        "If you have a key \"name\", the hash function calculates a location in memory where the value \"Alice\" is stored.\n",
        "\n",
        "\n",
        "**How Hash Tables Relate to Python Dictionaries**\n",
        "Python dictionaries are implemented using hash tables.\n",
        "\n",
        "Each key in a dictionary is hashed to find the location where its value is stored.\n",
        "\n",
        "This is why accessing a value by key in a dictionary is very fast, even for large dictionaries.\n",
        "\n",
        "e.g:\n",
        "\n",
        "person = {\"name\": \"Alice\", \"age\": 30}\n",
        "print(person[\"name\"])  # Output: Alice\n",
        "\n",
        "Keys must be immutable (like strings, numbers, tuples) because their hash value must stay the same.\n",
        "\n",
        "Values can be anything (mutable or immutable).\n"
      ],
      "metadata": {
        "id": "XpgAP_Ba_SyK"
      }
    },
    {
      "cell_type": "markdown",
      "source": [
        "# 9. Can lists contain different data types in Python?\n",
        "\n",
        "Ans: Yes,In Python lists can contain different data types all in one collection. That's one of the features that makes lists so flexible and powerful.\n",
        "\n",
        "**my_list = [42, \"hello\", 3.14, True, [1, 2, 3]]**\n",
        "\n",
        "This list contains:\n",
        "\n",
        "An integer (42)\n",
        "\n",
        "A string (\"hello\")\n",
        "\n",
        "A float (3.14)\n",
        "\n",
        "A boolean (True)\n",
        "\n",
        "Another list ([1, 2, 3])"
      ],
      "metadata": {
        "id": "25VCd_sF_S48"
      }
    },
    {
      "cell_type": "markdown",
      "source": [
        "# 10.Explain why strings are immutable in Python?\n",
        "\n",
        "Ans:**Reasons Why Strings Are Immutable**\n",
        "\n",
        "**Memory Efficiency**\n",
        "\n",
        "Python can reuse string objects in memory if they are immutable.\n",
        "\n",
        "This is called string interning and saves memory for commonly used strings.\n",
        "\n",
        "**Hashing and Dictionary Keys**\n",
        "\n",
        "Strings are often used as keys in dictionaries.\n",
        "\n",
        "If strings were mutable, their hash value could change, breaking dictionary integrity.\n",
        "\n",
        "**Safety**\n",
        "\n",
        "Immutable strings prevent accidental changes to important data like program configurations, messages, or identifiers.\n",
        "\n",
        "**Thread-Safety**\n",
        "\n",
        "Immutable objects are safe to use in multiple threads without worrying about concurrent modifications.\n",
        "\n",
        "**Immutability Means Fixed Content**\n",
        "\n",
        "Once a string is created, its content cannot be changed.\n",
        "\n",
        "Any operation that seems to “change” a string actually creates a new string.\n",
        "\n",
        "text = \"Hello\"\n",
        "\n",
        "new_text = text.replace(\"H\", \"J\")  # Creates a new string\n",
        "\n",
        "print(text)      # Original string remains \"Hello\"\n",
        "\n",
        "print(new_text)  # New string is \"Jello\"\n"
      ],
      "metadata": {
        "id": "u9vI5qj4_S_t"
      }
    },
    {
      "cell_type": "markdown",
      "source": [
        "# 11.What advantages do dictionaries offer over lists for certain tasks?\n",
        "\n",
        "Ans:Tuples ensure data integrity in Python by being immutable, which means their contents cannot be changed after creation. This immutability offers several key protections:\n",
        "\n",
        " 1.**Prevents Accidental Changes**\n",
        "Once a tuple is created, you can't modify, add, or remove elements. This helps keep your data safe from unintended edits.\n",
        "\n",
        "e.g:\n",
        "user_info = (\"Asha\", 25, \"Pune\")\n",
        "user_info[1] = 30  # Error — tuples are immutable\n",
        "\n",
        "\n",
        "2.**Reliable Structure**\n",
        "Tuples maintain a fixed order and length, which makes them ideal for storing structured data like coordinates, dates, or records.\n",
        "\n",
        "e.g:\n",
        "coordinates = (18.5204, 73.8567)  # Latitude, Longitude\n",
        "\n",
        "3.**Safe for Dictionary Keys**\n",
        "Because tuples are immutable, they can be used as keys in dictionaries, unlike lists. This allows for consistent and secure mapping.\n",
        "\n",
        "e.g:\n",
        "location_data = {\n",
        "    (18.5204, 73.8567): \"Pune\"\n",
        "}\n",
        "\n",
        "4.**Thread-Safe and Predictable**\n",
        "In multi-threaded programs, immutable objects like tuples are safer because they can't be changed by other threads, reducing bugs and race conditions."
      ],
      "metadata": {
        "id": "wF42YdD3_TGb"
      }
    },
    {
      "cell_type": "markdown",
      "source": [
        "# 12.Describe a scenario where using a tuple would be preferable over a list.\n",
        "\n",
        "Ans: Here is a explanation with a scenario:\n",
        "\n",
        "**Scenario**: Storing Fixed Data That Should Not Change\n",
        "\n",
        "Tuples are immutable, so they are perfect for data that should remain constant throughout the program.\n",
        "\n",
        "Lists are mutable, which means their content can be accidentally changed.\n",
        "\n",
        "**Example Scenario**: Coordinates\n",
        "\n",
        "Suppose you are storing geographical coordinates (latitude and longitude) for a location:\n",
        "\n",
        "# Using a tuple\n",
        "location = (19.0760, 72.8777)  # Mumbai coordinates\n",
        "\n",
        "\n",
        "**Why tuple is better here:**\n",
        "\n",
        "The coordinates should not change accidentally.\n",
        "\n",
        "Tuples can be used as keys in dictionaries, which is useful if you want to map coordinates to a place name:\n",
        "\n",
        "places = {\n",
        "    (19.0760, 72.8777): \"Mumbai\",\n",
        "    (28.7041, 77.1025): \"Delhi\"\n",
        "}\n",
        "\n",
        "\n",
        "Using a list here would allow accidental modification, breaking data integrity:\n",
        "\n",
        "location_list = [19.0760, 72.8777]\n",
        "location_list[0] = 20.0000  # Accidental change\n",
        "\n",
        "Other Examples Where Tuples Are Preferable\n",
        "\n",
        "Storing RGB color values (255, 0, 0)\n",
        "\n",
        "Returning multiple values from a function\n",
        "\n",
        "Using fixed configuration values."
      ],
      "metadata": {
        "id": "zx3PJyLr_TNb"
      }
    },
    {
      "cell_type": "markdown",
      "source": [
        "# 13.How do sets handle duplicate values in Python?\n",
        "\n",
        "Ans:How Sets Handle Duplicates in Python\n",
        "\n",
        "Sets automatically remove duplicates\n",
        "\n",
        "When you add elements to a set, any duplicate values are ignored.\n",
        "\n",
        "Only unique elements are stored in a set.\n",
        "\n",
        "numbers = [1, 2, 2, 3, 4, 4, 5]\n",
        "unique_numbers = set(numbers)\n",
        "print(unique_numbers)\n",
        "\n",
        "\n",
        "Output:\n",
        "\n",
        "{1, 2, 3, 4, 5}\n",
        "\n",
        "\n",
        "Why this happens\n",
        "\n",
        "Sets use a hash table internally.\n",
        "\n",
        "Each element is hashed, and duplicates have the same hash, so the set keeps only one copy.\n",
        "\n",
        "Adding duplicates to an existing set\n",
        "\n",
        "my_set = {1, 2, 3}\n",
        "my_set.add(2)  # Duplicate\n",
        "print(my_set)\n",
        "\n",
        "\n",
        "Output:\n",
        "\n",
        "{1, 2, 3}  "
      ],
      "metadata": {
        "id": "A2P7YnYg_TUC"
      }
    },
    {
      "cell_type": "markdown",
      "source": [
        "# 14.  How does the “in” keyword work differently for lists and dictionaries?\n",
        "\n",
        "Here is a clear explanation of how the in keyword works differently for lists and dictionaries in Python:\n",
        "\n",
        "**1.Lists**\n",
        "\n",
        "When you use in with a list, Python checks if the value exists anywhere in the list.\n",
        "\n",
        "It goes through each element one by one (linear search), so the time complexity is O(n).\n",
        "\n",
        "my_list = [10, 20, 30, 40]\n",
        "\n",
        "print(20 in my_list)  # True\n",
        "print(50 in my_list)  # False\n",
        "\n",
        "2.**Dictionaries**\n",
        "\n",
        "When you use in with a dictionary, Python checks if the key exists in the dictionary, not the value.\n",
        "\n",
        "This is very fast (average O(1)) because dictionaries use a hash table internally.\n",
        "\n",
        "my_dict = {\"name\": \"Alice\", \"age\": 30}\n",
        "\n",
        "print(\"name\" in my_dict)   # True (key exists)\n",
        "print(\"Alice\" in my_dict)  # False (value, not key)\n",
        "\n",
        "\n",
        "If you want to check for values, you need to use .values():\n",
        "\n",
        "print(\"Alice\" in my_dict.values())  # True"
      ],
      "metadata": {
        "id": "bcQ7lVXa_Tax"
      }
    },
    {
      "cell_type": "markdown",
      "source": [
        "# 15. Can you modify the elements of a tuple? Explain why or why not.\n",
        "\n",
        "Ans: No, you cannot modify the elements of a tuple in Python — and that's by design.\n",
        "\n",
        "**Why Tuples Are Immutable**\n",
        "Tuples are created to be unchangeable.\n",
        "\n",
        "Once a tuple is defined, its size and contents are fixed.\n",
        "\n",
        "This immutability helps ensure data integrity, especially when you want to protect values from being altered accidentally.\n",
        "\n",
        "e.g:\n",
        "my_tuple = (10, 20, 30)\n",
        "my_tuple[0] = 99  #  This will raise a TypeError\n",
        "\n",
        "Tuples are immutable, so elements cannot be modified.\n",
        "\n",
        "Any “modification” requires creating a new tuple.\n"
      ],
      "metadata": {
        "id": "CH0BMZbc_ThS"
      }
    },
    {
      "cell_type": "markdown",
      "source": [
        "# 16. What is a nested dictionary, and give an example of its use case?\n",
        "Ans:\n",
        "\n",
        "**What is a Nested Dictionary?**\n",
        "\n",
        "A nested dictionary is a dictionary where the value of a key is another dictionary.\n",
        "\n",
        "It allows you to store more complex, hierarchical data in a structured way.\n",
        "\n",
        "Example Structure:\n",
        "\n",
        "nested_dict = {\n",
        "    \"student1\": {\"name\": \"Alice\", \"age\": 20, \"grade\": \"A\"},\n",
        "    \"student2\": {\"name\": \"Bob\", \"age\": 22, \"grade\": \"B\"}\n",
        "}\n",
        "\n",
        "\n",
        "Here:\n",
        "\n",
        "\"student1\" and \"student2\" are keys.\n",
        "\n",
        "Their values are dictionaries containing more details about each student.\n",
        "\n",
        "**2.Use Case**\n",
        "\n",
        "Nested dictionaries are useful when storing structured data, like:\n",
        "\n",
        "Student records\n",
        "\n",
        "Employee information\n",
        "\n",
        "Product details in an inventory system\n",
        "\n",
        "Example: Accessing Data\n",
        "\n",
        "*Get the grade of student1\n",
        "\n",
        "print(nested_dict[\"student1\"][\"grade\"])  # Output: A\n",
        "\n",
        "*Update age of student2\n",
        "\n",
        "nested_dict[\"student2\"][\"age\"] = 23\n",
        "\n",
        "print(nested_dict[\"student2\"])\n",
        "\n",
        "**3.Advantages**\n",
        "\n",
        "Organizes hierarchical or related data neatly\n",
        "\n",
        "Allows easy access and updates for specific items\n",
        "\n",
        "Makes it easy to serialize data (e.g., JSON) for storage or API communication"
      ],
      "metadata": {
        "id": "OtgR3kJD_ToD"
      }
    },
    {
      "cell_type": "markdown",
      "source": [
        "# 17. Describe the time complexity of accessing elements in a dictionary.\n",
        "\n",
        "Ans:\n",
        "1.**Average Case: O(1) - Constant Time**\n",
        "\n",
        "Dictionaries in Python are implemented using hash tables.\n",
        "\n",
        "Each key is passed through a hash function, which determines the memory location of the corresponding value.\n",
        "\n",
        "This allows Python to directly access the value using the key, without searching through all elements.\n",
        "\n",
        "my_dict = {\"name\": \"Alice\", \"age\": 30, \"city\": \"Paris\"}\n",
        "print(my_dict[\"age\"])  # Direct access, O(1) average\n",
        "\n",
        "2.**Worst Case: O(n) - Linear Time**\n",
        "\n",
        "In rare situations called hash collisions, two keys may hash to the same location.\n",
        "\n",
        "Python handles collisions internally, but if there are many collisions, accessing a key could degrade to O(n).\n",
        "\n",
        "In practice, this is extremely rare due to Python's efficient hash function and resizing of the hash table.\n",
        "\n",
        "3.**Comparison with Lists**\n",
        "\n",
        "List: Access by index → O(1)\n",
        "\n",
        "List: Search by value → O(n)\n",
        "\n",
        "Dictionary: Access by key → O(1) average, O(n) worst case"
      ],
      "metadata": {
        "id": "wi_wPVOc_Tu7"
      }
    },
    {
      "cell_type": "markdown",
      "source": [
        "# 18.In what situations are lists preferred over dictionaries?\n",
        "Ans: 1.**Ordered Collection of Items**\n",
        "\n",
        "Use a list when the order of elements matters, because lists maintain the order of insertion.\n",
        "\n",
        "Dictionaries in Python 3.7+ preserve order too, but lists are simpler when order is the main focus.\n",
        "\n",
        "tasks = [\"Wake up\", \"Brush teeth\", \"Breakfast\"]\n",
        "\n",
        "2.**Sequential Data**\n",
        "\n",
        "If you need to access elements by position/index, lists are ideal.\n",
        "\n",
        "Example: retrieving the 3rd item in a sequence.\n",
        "\n",
        "colors = [\"red\", \"green\", \"blue\"]\n",
        "\n",
        "print(colors[2])  # Output: blue\n",
        "\n",
        "3.**Collections of Similar Items**\n",
        "\n",
        "Lists are preferred when storing many items of the same type (numbers, strings, objects) without the need for keys.\n",
        "\n",
        "scores = [85, 90, 78, 92]\n",
        "\n",
        "4.**Simpler Operations**\n",
        "\n",
        "Lists support operations like append, extend, insert, pop, sort, etc., which are simpler for sequential data manipulation.\n",
        "\n",
        "numbers = [5, 3, 8]\n",
        "\n",
        "numbers.append(10)\n",
        "\n",
        "numbers.sort()\n",
        "\n",
        "print(numbers)  # Output: [3, 5, 8, 10]\n",
        "\n",
        "5.**When Keys Are Not Needed**\n",
        "\n",
        "If you don't need key-value mapping and just need a collection of items, a list is simpler and more memory-efficient than a dictionary."
      ],
      "metadata": {
        "id": "V2UihmOO_T2m"
      }
    },
    {
      "cell_type": "markdown",
      "source": [
        "# 19. Why are dictionaries considered unordered, and how does that affect data retrieval?\n",
        "\n",
        "Ans:\n",
        "Dictionaries use hash tables to store key-value pairs.\n",
        "\n",
        "The position of each item is determined by its hash, not by its insertion sequence.\n",
        "\n",
        "This made them fast for lookups, but unpredictable in order—especially in older Python versions.\n",
        "\n",
        "Impact on Data Retrieval\n",
        "\n",
        "Access by key is always fast (O(1)) because of hashing.\n",
        "\n",
        "Order of items is not guaranteed, so you cannot rely on iteration order (in older Python versions) if order matters.\n",
        "\n",
        "*Accessing a value by key is fine\n",
        "print(my_dict[\"b\"])  # Output: 2, fast lookup\n",
        "\n",
        "\n",
        "If you need sorted order or insertion order, you must handle it separately (e.g., OrderedDict in older versions, or sorting keys/values)."
      ],
      "metadata": {
        "id": "LppqCcqj_T-s"
      }
    },
    {
      "cell_type": "markdown",
      "source": [
        "# 20.Why are dictionaries considered unordered, and how does that affect data retrieval?\n",
        "Ans:\n",
        "1.**List**\n",
        "\n",
        "Data Retrieval by Index:\n",
        "\n",
        "You retrieve elements using their position (index).\n",
        "\n",
        "Access is fast only if you know the index (O(1)).\n",
        "\n",
        "Searching for a value without the index requires scanning the entire list (O(n)).\n",
        "\n",
        "my_list = [10, 20, 30, 40]\n",
        "print(my_list[2])     # Output: 30 (fast, O(1))\n",
        "print(30 in my_list)  # Searches through the list (O(n))\n",
        "\n",
        "\n",
        "Order Matters:\n",
        "\n",
        "Lists maintain the order of elements, so retrieval by index is predictable.\n",
        "\n",
        "2.**Dictionary**\n",
        "Data Retrieval by Key:\n",
        "\n",
        "You retrieve values using keys instead of positions.\n",
        "\n",
        "Access by key is very fast (average O(1)) because dictionaries use a hash table internally.\n",
        "\n",
        "my_dict = {\"name\": \"Alice\", \"age\": 30}\n",
        "print(my_dict[\"age\"])  # Output: 30 (fast, O(1))\n",
        "\n",
        "\n",
        "Order Not Primary:\n",
        "\n",
        "Dictionaries focus on key-value mapping, not the order of items\n",
        "\n",
        "**Lists : Access by position; slower for searching by value.**\n",
        "\n",
        "**Dictionaries : Access by key; very fast for key-value retrieval.**"
      ],
      "metadata": {
        "id": "Q4VAKHGS_UI1"
      }
    },
    {
      "cell_type": "code",
      "source": [
        "#1.Write a code to create a string with your name and print it\n",
        "\n",
        "name = \"Divya Patil\"\n",
        "print(\"My name is:\", name)\n"
      ],
      "metadata": {
        "colab": {
          "base_uri": "https://localhost:8080/"
        },
        "id": "xoV3Jc3g_VGk",
        "outputId": "92ec7e24-eb45-4609-f840-8932bd4f6b14"
      },
      "execution_count": 37,
      "outputs": [
        {
          "output_type": "stream",
          "name": "stdout",
          "text": [
            "My name is: Divya Patil\n"
          ]
        }
      ]
    },
    {
      "cell_type": "code",
      "source": [
        "#2.Write a code to find the length of the string \"Hello World\n",
        "text = \"Hello World\"\n",
        "length = len(text)\n",
        "print(\"The length of the string is:\", length)\n"
      ],
      "metadata": {
        "colab": {
          "base_uri": "https://localhost:8080/"
        },
        "id": "m3GuelUh_1p2",
        "outputId": "05ed0175-2100-442a-f9d3-9107327da0be"
      },
      "execution_count": 38,
      "outputs": [
        {
          "output_type": "stream",
          "name": "stdout",
          "text": [
            "The length of the string is: 11\n"
          ]
        }
      ]
    },
    {
      "cell_type": "code",
      "source": [
        "#3.Write a code to slice the first 3 characters from the string \"Python Programming\"\n",
        "\n",
        "text = \"Python Programming\"\n",
        "first_three = text[:3]\n",
        "print(\"First 3 characters:\", first_three)\n"
      ],
      "metadata": {
        "colab": {
          "base_uri": "https://localhost:8080/"
        },
        "id": "2AmmqajmANn5",
        "outputId": "db61c9df-9245-41d3-dc73-7810e98b2309"
      },
      "execution_count": 39,
      "outputs": [
        {
          "output_type": "stream",
          "name": "stdout",
          "text": [
            "First 3 characters: Pyt\n"
          ]
        }
      ]
    },
    {
      "cell_type": "code",
      "source": [
        "#4.Write a code to convert the string \"hello\" to uppercase\n",
        "text = \"hello\"\n",
        "uppercase_text = text.upper()\n",
        "print(\"Uppercase string:\", uppercase_text)\n"
      ],
      "metadata": {
        "colab": {
          "base_uri": "https://localhost:8080/"
        },
        "id": "IJEiFWjbAjCN",
        "outputId": "3ca072d3-07d5-47c7-fbba-a2f938d68d0a"
      },
      "execution_count": 40,
      "outputs": [
        {
          "output_type": "stream",
          "name": "stdout",
          "text": [
            "Uppercase string: HELLO\n"
          ]
        }
      ]
    },
    {
      "cell_type": "code",
      "source": [
        "#5.Write a code to replace the word \"apple\" with \"orange\" in the string \"I like apple\"\n",
        "text = \"I like apple\"\n",
        "new_text = text.replace(\"apple\", \"orange\")\n",
        "print(new_text)\n"
      ],
      "metadata": {
        "colab": {
          "base_uri": "https://localhost:8080/"
        },
        "id": "5uxrMgoMAxbS",
        "outputId": "948bf88a-af73-41e9-bd87-1fef6e0c8adb"
      },
      "execution_count": 41,
      "outputs": [
        {
          "output_type": "stream",
          "name": "stdout",
          "text": [
            "I like orange\n"
          ]
        }
      ]
    },
    {
      "cell_type": "code",
      "source": [
        "#6.Write a code to create a list with numbers 1 to 5 and print it\n",
        "numbers = [1, 2, 3, 4, 5]\n",
        "print(numbers)\n"
      ],
      "metadata": {
        "colab": {
          "base_uri": "https://localhost:8080/"
        },
        "id": "OSABXqnzBVYo",
        "outputId": "42458e8e-e75a-43e8-a0fd-cd85f5191df9"
      },
      "execution_count": 42,
      "outputs": [
        {
          "output_type": "stream",
          "name": "stdout",
          "text": [
            "[1, 2, 3, 4, 5]\n"
          ]
        }
      ]
    },
    {
      "cell_type": "code",
      "source": [
        "#7.Write a code to append the number 10 to the list [1, 2, 3, 4]\n",
        "numbers = [1, 2, 3, 4]\n",
        "numbers.append(10)\n",
        "print(numbers)\n"
      ],
      "metadata": {
        "colab": {
          "base_uri": "https://localhost:8080/"
        },
        "id": "VaxorXgTBhBL",
        "outputId": "e848aae8-6265-4006-d5a1-2e21fa86e1d6"
      },
      "execution_count": 43,
      "outputs": [
        {
          "output_type": "stream",
          "name": "stdout",
          "text": [
            "[1, 2, 3, 4, 10]\n"
          ]
        }
      ]
    },
    {
      "cell_type": "code",
      "source": [
        "#8.Write a code to remove the number 3 from the list [1, 2, 3, 4, 5]\n",
        "numbers = [1, 2, 3, 4, 5]\n",
        "numbers.remove(3)\n",
        "print(numbers)\n"
      ],
      "metadata": {
        "colab": {
          "base_uri": "https://localhost:8080/"
        },
        "id": "grrtV-InBwcp",
        "outputId": "0df2f4da-0d19-4788-a2ed-e8d1d7466968"
      },
      "execution_count": 44,
      "outputs": [
        {
          "output_type": "stream",
          "name": "stdout",
          "text": [
            "[1, 2, 4, 5]\n"
          ]
        }
      ]
    },
    {
      "cell_type": "code",
      "source": [
        "#9.Write a code to access the second element in the list ['a', 'b', 'c', 'd'].\n",
        "letters = ['a', 'b', 'c', 'd']\n",
        "second_element = letters[1]\n",
        "print(second_element)\n"
      ],
      "metadata": {
        "colab": {
          "base_uri": "https://localhost:8080/"
        },
        "id": "kPdW8mS0B_WT",
        "outputId": "05d804ff-9aff-4d64-adfa-673c34edf030"
      },
      "execution_count": 45,
      "outputs": [
        {
          "output_type": "stream",
          "name": "stdout",
          "text": [
            "b\n"
          ]
        }
      ]
    },
    {
      "cell_type": "code",
      "source": [
        "#10.Write a code to reverse the list [10, 20, 30, 40, 50].\n",
        "numbers = [10, 20, 30, 40, 50]\n",
        "reversed_numbers = numbers[::-1]\n",
        "print(reversed_numbers)\n"
      ],
      "metadata": {
        "colab": {
          "base_uri": "https://localhost:8080/"
        },
        "id": "gUl4Qc9gCUiw",
        "outputId": "62f81df1-97ff-4448-de52-2d515d6d8120"
      },
      "execution_count": 46,
      "outputs": [
        {
          "output_type": "stream",
          "name": "stdout",
          "text": [
            "[50, 40, 30, 20, 10]\n"
          ]
        }
      ]
    },
    {
      "cell_type": "code",
      "source": [
        "#11.. Write a code to create a tuple with the elements 100, 200, 300 and print it.\n",
        "numbers = (100, 200, 300)\n",
        "print(numbers)\n"
      ],
      "metadata": {
        "colab": {
          "base_uri": "https://localhost:8080/"
        },
        "id": "Z5p-VToHCcN6",
        "outputId": "d438353d-9cb8-4b49-c91c-e688ef71ea53"
      },
      "execution_count": 47,
      "outputs": [
        {
          "output_type": "stream",
          "name": "stdout",
          "text": [
            "(100, 200, 300)\n"
          ]
        }
      ]
    },
    {
      "cell_type": "code",
      "source": [
        "#12. Write a code to access the second-to-last element of the tuple ('red', 'green', 'blue', 'yellow').\n",
        "colors = ('red', 'green', 'blue', 'yellow')\n",
        "second_to_last = colors[-2]\n",
        "print(second_to_last)\n"
      ],
      "metadata": {
        "colab": {
          "base_uri": "https://localhost:8080/"
        },
        "id": "WCOJgnVTCyv1",
        "outputId": "088f745c-0c87-4b71-d409-6eea151f10fa"
      },
      "execution_count": 48,
      "outputs": [
        {
          "output_type": "stream",
          "name": "stdout",
          "text": [
            "blue\n"
          ]
        }
      ]
    },
    {
      "cell_type": "code",
      "source": [
        "#13. Write a code to find the minimum number in the tuple (10, 20, 5, 15).\n",
        "numbers = (10, 20, 5, 15)\n",
        "minimum_number = min(numbers)\n",
        "print(minimum_number)\n"
      ],
      "metadata": {
        "colab": {
          "base_uri": "https://localhost:8080/"
        },
        "id": "jirBHtoCDBLd",
        "outputId": "e068abb6-337a-4a30-a7d3-a184690db6c5"
      },
      "execution_count": 49,
      "outputs": [
        {
          "output_type": "stream",
          "name": "stdout",
          "text": [
            "5\n"
          ]
        }
      ]
    },
    {
      "cell_type": "code",
      "source": [
        "#14. Write a code to find the index of the element \"cat\" in the tuple ('dog', 'cat', 'rabbit').\n",
        "animals = ('dog', 'cat', 'rabbit')\n",
        "index_of_cat = animals.index('cat')\n",
        "print(index_of_cat)\n"
      ],
      "metadata": {
        "colab": {
          "base_uri": "https://localhost:8080/"
        },
        "id": "Cq1jmQb0DNkN",
        "outputId": "12f16982-2ff7-4eac-ddcd-d657f926864b"
      },
      "execution_count": 50,
      "outputs": [
        {
          "output_type": "stream",
          "name": "stdout",
          "text": [
            "1\n"
          ]
        }
      ]
    },
    {
      "cell_type": "code",
      "source": [
        "#15. Write a code to create a tuple containing three different fruits and check if \"kiwi\" is in it\n",
        "fruits = ('apple', 'banana', 'mango')\n",
        "\n",
        "if 'kiwi' in fruits:\n",
        "    print(\"Kiwi is in the tuple\")\n",
        "else:\n",
        "    print(\"Kiwi is not in the tuple\")\n"
      ],
      "metadata": {
        "colab": {
          "base_uri": "https://localhost:8080/"
        },
        "id": "Lk_8_JUaEY_8",
        "outputId": "158a5b86-4c67-4735-cc9d-e09fd3f51335"
      },
      "execution_count": 51,
      "outputs": [
        {
          "output_type": "stream",
          "name": "stdout",
          "text": [
            "Kiwi is not in the tuple\n"
          ]
        }
      ]
    },
    {
      "cell_type": "code",
      "source": [
        "#16. Write a code to create a set with the elements 'a', 'b', 'c' and print it.\n",
        "letters = {'a', 'b', 'c'}\n",
        "print(letters)\n"
      ],
      "metadata": {
        "colab": {
          "base_uri": "https://localhost:8080/"
        },
        "id": "xFtQgZtsFcSv",
        "outputId": "a9ba5985-1e90-4ed3-e460-76e79a2ab3ac"
      },
      "execution_count": 52,
      "outputs": [
        {
          "output_type": "stream",
          "name": "stdout",
          "text": [
            "{'a', 'b', 'c'}\n"
          ]
        }
      ]
    },
    {
      "cell_type": "code",
      "source": [
        "#17. Write a code to clear all elements from the set {1, 2, 3, 4, 5}.\n",
        "numbers = {1, 2, 3, 4, 5}\n",
        "numbers.clear()\n",
        "print(numbers)\n"
      ],
      "metadata": {
        "colab": {
          "base_uri": "https://localhost:8080/"
        },
        "id": "P22GCZX0FnCM",
        "outputId": "b67631d9-2099-45e0-bd6d-ad98fcded807"
      },
      "execution_count": 53,
      "outputs": [
        {
          "output_type": "stream",
          "name": "stdout",
          "text": [
            "set()\n"
          ]
        }
      ]
    },
    {
      "cell_type": "code",
      "source": [
        "#18. Write a code to remove the element 4 from the set {1, 2, 3, 4}.\n",
        "numbers = {1, 2, 3, 4}\n",
        "numbers.remove(4)\n",
        "print(numbers)\n"
      ],
      "metadata": {
        "colab": {
          "base_uri": "https://localhost:8080/"
        },
        "id": "paFt8uiXF7fU",
        "outputId": "5711a842-22e9-4789-a4a3-c46f849bfa17"
      },
      "execution_count": 54,
      "outputs": [
        {
          "output_type": "stream",
          "name": "stdout",
          "text": [
            "{1, 2, 3}\n"
          ]
        }
      ]
    },
    {
      "cell_type": "code",
      "source": [
        "#19.Write a code to find the union of two sets {1, 2, 3} and {3, 4, 5}.\n",
        "set1 = {1, 2, 3}\n",
        "set2 = {3, 4, 5}\n",
        "\n",
        "union_set = set1.union(set2)\n",
        "print(union_set)\n"
      ],
      "metadata": {
        "colab": {
          "base_uri": "https://localhost:8080/"
        },
        "id": "gJ6WL6kQGHrh",
        "outputId": "f7d94518-fee9-41b4-ddc2-8546733a8a9a"
      },
      "execution_count": 55,
      "outputs": [
        {
          "output_type": "stream",
          "name": "stdout",
          "text": [
            "{1, 2, 3, 4, 5}\n"
          ]
        }
      ]
    },
    {
      "cell_type": "code",
      "source": [
        "# 20. Write a code to find the intersection of two sets {1, 2, 3} and {2, 3, 4}.\n",
        "set1 = {1, 2, 3}\n",
        "set2 = {2, 3, 4}\n",
        "\n",
        "intersection_set = set1.intersection(set2)\n",
        "print(intersection_set)\n"
      ],
      "metadata": {
        "colab": {
          "base_uri": "https://localhost:8080/"
        },
        "id": "S_SLrJCOHQ-B",
        "outputId": "3d9fc911-042e-4383-8a18-c8b538f3c48a"
      },
      "execution_count": 56,
      "outputs": [
        {
          "output_type": "stream",
          "name": "stdout",
          "text": [
            "{2, 3}\n"
          ]
        }
      ]
    },
    {
      "cell_type": "code",
      "source": [
        "# 21. Write a code to create a dictionary with the keys \"name\", \"age\", and \"city\", and print it.\n",
        "person = {\n",
        "    \"name\": \"Divya\",\n",
        "    \"age\": 28,\n",
        "    \"city\": \"Pune\"\n",
        "}\n",
        "\n",
        "print(person)\n"
      ],
      "metadata": {
        "colab": {
          "base_uri": "https://localhost:8080/"
        },
        "id": "3ihmgIZSHhOL",
        "outputId": "446a545e-223a-45ba-caeb-c17f88e31fcb"
      },
      "execution_count": 57,
      "outputs": [
        {
          "output_type": "stream",
          "name": "stdout",
          "text": [
            "{'name': 'Divya', 'age': 28, 'city': 'Pune'}\n"
          ]
        }
      ]
    },
    {
      "cell_type": "code",
      "source": [
        "# 22. Write a code to add a new key-value pair \"country\": \"USA\" to the dictionary {'name': 'John', 'age': 25}.\n",
        "person = {'name': 'John', 'age': 25}\n",
        "person['country'] = 'USA'\n",
        "print(person)\n"
      ],
      "metadata": {
        "colab": {
          "base_uri": "https://localhost:8080/"
        },
        "id": "KK_ErZAOH9j6",
        "outputId": "a5e57350-00ae-4403-ea5b-93d09bffdd22"
      },
      "execution_count": 58,
      "outputs": [
        {
          "output_type": "stream",
          "name": "stdout",
          "text": [
            "{'name': 'John', 'age': 25, 'country': 'USA'}\n"
          ]
        }
      ]
    },
    {
      "cell_type": "code",
      "source": [
        "# 23. Write a code to access the value associated with the key \"name\" in the dictionary {'name': 'Alice', 'age': 30}.\n",
        "name_value = person.get('name')\n",
        "print(name_value)\n",
        "\n"
      ],
      "metadata": {
        "colab": {
          "base_uri": "https://localhost:8080/"
        },
        "id": "Iwfubt01IK3x",
        "outputId": "93e1498a-2116-4c60-e56a-c1d3f0b52b20"
      },
      "execution_count": 59,
      "outputs": [
        {
          "output_type": "stream",
          "name": "stdout",
          "text": [
            "John\n"
          ]
        }
      ]
    },
    {
      "cell_type": "code",
      "source": [
        "# 24. Write a code to remove the key \"age\" from the dictionary {'name': 'Bob', 'age': 22, 'city': 'New York'}.\n",
        "person = {'name': 'Bob', 'age': 22, 'city': 'New York'}\n",
        "person.pop('age')\n",
        "print(person)\n"
      ],
      "metadata": {
        "colab": {
          "base_uri": "https://localhost:8080/"
        },
        "id": "0_q7XTEeIks3",
        "outputId": "d9b4bbd8-b53a-4165-a037-933377e8fe61"
      },
      "execution_count": 60,
      "outputs": [
        {
          "output_type": "stream",
          "name": "stdout",
          "text": [
            "{'name': 'Bob', 'city': 'New York'}\n"
          ]
        }
      ]
    },
    {
      "cell_type": "code",
      "source": [
        "#25. Write a code to check if the key \"city\" exists in the dictionary {'name': 'Alice', 'city': 'Paris'}.\n",
        "person = {'name': 'Alice', 'city': 'Paris'}\n",
        "\n",
        "if 'city' in person:\n",
        "    print(\"Key 'city' exists in the dictionary\")\n",
        "else:\n",
        "    print(\"Key 'city' does not exist in the dictionary\")\n"
      ],
      "metadata": {
        "colab": {
          "base_uri": "https://localhost:8080/"
        },
        "id": "ZENbmePeJNiZ",
        "outputId": "8ca12fbc-f0bb-489a-c79d-44156868db9b"
      },
      "execution_count": 61,
      "outputs": [
        {
          "output_type": "stream",
          "name": "stdout",
          "text": [
            "Key 'city' exists in the dictionary\n"
          ]
        }
      ]
    },
    {
      "cell_type": "code",
      "source": [
        "# 26. Write a code to create a list, a tuple, and a dictionary, and print them all.\n",
        "my_list = [1, 2, 3]\n",
        "my_tuple = (4, 5, 6)\n",
        "my_dict = {'name': 'Alice', 'age': 25}\n",
        "\n",
        "print(\"List:\", my_list)\n",
        "print(\"Tuple:\", my_tuple)\n",
        "print(\"Dictionary:\", my_dict)\n"
      ],
      "metadata": {
        "colab": {
          "base_uri": "https://localhost:8080/"
        },
        "id": "QWlAhOqIJZE7",
        "outputId": "b1475915-7f34-4bc0-d91c-da57bd765450"
      },
      "execution_count": 62,
      "outputs": [
        {
          "output_type": "stream",
          "name": "stdout",
          "text": [
            "List: [1, 2, 3]\n",
            "Tuple: (4, 5, 6)\n",
            "Dictionary: {'name': 'Alice', 'age': 25}\n"
          ]
        }
      ]
    },
    {
      "cell_type": "code",
      "source": [
        "# 27.Write a code to create a list of 5 random numbers between 1 and 100, sort it in ascending order, and print the result(replaced)\n",
        "import random\n",
        "\n",
        "numbers = [random.randint(1, 100) for _ in range(5)]\n",
        "numbers.sort()\n",
        "print(numbers)\n"
      ],
      "metadata": {
        "colab": {
          "base_uri": "https://localhost:8080/"
        },
        "id": "QHI6tEM7JrAT",
        "outputId": "1f18ce5f-428c-4ea8-df75-3799c74b625b"
      },
      "execution_count": 63,
      "outputs": [
        {
          "output_type": "stream",
          "name": "stdout",
          "text": [
            "[17, 51, 77, 81, 100]\n"
          ]
        }
      ]
    },
    {
      "cell_type": "code",
      "source": [
        "# 28. Write a code to create a list with strings and print the element at the third index.\n",
        "words = [\"apple\", \"banana\", \"cherry\", \"date\", \"elderberry\"]\n",
        "print(words[3])\n"
      ],
      "metadata": {
        "colab": {
          "base_uri": "https://localhost:8080/"
        },
        "id": "vz0uxSvzKKtu",
        "outputId": "f9fd53e6-58a2-4a1f-f656-0027f4384767"
      },
      "execution_count": 64,
      "outputs": [
        {
          "output_type": "stream",
          "name": "stdout",
          "text": [
            "date\n"
          ]
        }
      ]
    },
    {
      "cell_type": "code",
      "source": [
        "# 29. Write a code to combine two dictionaries into one and print the result.\n",
        "dict1 = {'a': 1, 'b': 2}\n",
        "dict2 = {'c': 3, 'd': 4}\n",
        "\n",
        "combined_dict = {**dict1, **dict2}\n",
        "print(combined_dict)\n"
      ],
      "metadata": {
        "colab": {
          "base_uri": "https://localhost:8080/"
        },
        "id": "u13408QzKYD2",
        "outputId": "612d61e0-c845-44b2-d6da-08959068da24"
      },
      "execution_count": 65,
      "outputs": [
        {
          "output_type": "stream",
          "name": "stdout",
          "text": [
            "{'a': 1, 'b': 2, 'c': 3, 'd': 4}\n"
          ]
        }
      ]
    },
    {
      "cell_type": "code",
      "source": [
        "# 30. Write a code to convert a list of strings into a set.\n",
        "numbers_list = [1, 2, 3, 4, 5, 6, 2, 4]\n",
        "even_numbers_set = {num for num in numbers_list if num % 2 == 0}\n",
        "print(even_numbers_set)\n",
        "\n"
      ],
      "metadata": {
        "colab": {
          "base_uri": "https://localhost:8080/"
        },
        "id": "Syzwzko8Kr3R",
        "outputId": "fc9eaf53-8939-4296-8491-abce5ce99cc2"
      },
      "execution_count": 66,
      "outputs": [
        {
          "output_type": "stream",
          "name": "stdout",
          "text": [
            "{2, 4, 6}\n"
          ]
        }
      ]
    }
  ]
}