{
  "nbformat": 4,
  "nbformat_minor": 0,
  "metadata": {
    "colab": {
      "provenance": []
    },
    "kernelspec": {
      "name": "python3",
      "display_name": "Python 3"
    },
    "language_info": {
      "name": "python"
    }
  },
  "cells": [
    {
      "cell_type": "markdown",
      "source": [
        "1. What is Python, and why is it popular?\n",
        "\n",
        "   -Python is a high-level, interpreted programming language known for its simplicity and readability.\n",
        "\n",
        "   Python is Popular because:\n",
        "\n",
        "   **Large Standard Library**:Built-in modules for many tasks, no extra installs needed.\n",
        "\n",
        "   **Versatile**:Used for web dev, AI/ML, data analysis, automation, scientific computing, etc.\n",
        "\n",
        "   **Easy to Learn**: Simple, readable syntax; great for beginners.\n",
        "\n",
        "   **Interpreted Language** : Runs code line by line, easy debugging; can be   compiled to bytecode if needed.\n",
        "\n",
        "   **Dynamic Typing**: No need to declare variable types, faster development.\n",
        "\n",
        "   \n",
        "   **Strong Community** : Huge community, lots of libraries, tutorials, and support."
      ],
      "metadata": {
        "id": "2dBTPd8_W3LK"
      }
    },
    {
      "cell_type": "markdown",
      "source": [
        "2. What is an interpreter in Python?\n",
        "  \n",
        "    -Interpreter is the one kind of program which will execute python code line by line.\n",
        "    When we write Python code, the interpreter:\n",
        "\n",
        " * Reads our code (source code).\n",
        "\n",
        " * Parses it into a format the computer understands (bytecode).\n",
        "\n",
        " * Executes it line by line inside the Python Virtual Machine (PVM)"
      ],
      "metadata": {
        "id": "1TaDnS2XW6l4"
      }
    },
    {
      "cell_type": "markdown",
      "source": [
        "3. What are pre-defined keywords in Python?\n",
        "\n",
        "   -Predefined keywords in Python are special words that are part of the language. They have fixed meanings and are used to write Python programs.\n",
        "\n",
        "   we cannot use these words as names for variables, functions, or classes because Python already uses them for specific purposes.\n",
        "\n",
        "    **Key Points about Predefined keywords:**\n",
        "\n",
        "   **Reserved words** :cannot be redefined."
      ],
      "metadata": {
        "id": "1Lq76DutV7TY"
      }
    },
    {
      "cell_type": "markdown",
      "source": [
        "4.  Can keywords be used as variable names?\n",
        "\n",
        "    -No : keywords cannot be used as variable names in Python.\n"
      ],
      "metadata": {
        "id": "mNK5CMqyAOEd"
      }
    },
    {
      "cell_type": "markdown",
      "source": [
        "  5.What is mutability in Python?\n",
        "\n",
        "  -Mutability in Python means whether an object's value can be changed  after it is created.\n",
        "\n",
        "   Mutable objects → we can change them in place (add, remove, or update elements).\n",
        "\n",
        "**Key Points about Mutability:**\n",
        "\n",
        "  * Mutable = Changeable\n",
        "\n",
        "     e.g: lists,dictionaries,sets\n",
        "\n",
        "  * Mutability affects memory usage and performance.\n",
        "\n",
        "  * Knowing it helps prevent bugs when passing objects to functions.\n"
      ],
      "metadata": {
        "id": "gO7gStjqFn9O"
      }
    },
    {
      "cell_type": "markdown",
      "source": [
        " 6.Why are lists mutable, but tuples are immutable?\n",
        "\n",
        "  **Lists**: Can Change :\n",
        "   Lists are mutable because they are designed to hold data that can change. You can add, remove, or update items.\n",
        "  \n",
        "   eg: while Shopping on e-commerce we can Add, delete and we can update list any time.\n",
        "\n",
        "   **Tuple** :Cannot Change\n",
        "  Once we create it, you cannot modify it.\n",
        "\n",
        "   Tuples are immutable because they are meant to store fixed data that should not change. This makes them faster, safer, and usable as dictionary keys."
      ],
      "metadata": {
        "id": "MLiFLvYzGPS6"
      }
    },
    {
      "cell_type": "markdown",
      "source": [
        "  7.What is the difference between “==” and “is” operators in Python?\n",
        "\n",
        " - **== (Equality Operator)**\n",
        "\n",
        "   Compares values of two objects.\n",
        "\n",
        "    Returns True if the contents (data) of the objects are the same, even if they are stored in different places in memory.\n",
        "\n",
        "   Example:\n",
        "   a = [1, 2, 3] b = [1, 2, 3]\n",
        "\n",
        "   print(a == b)\n",
        "\n",
        "   **is (Identity Operator)**\n",
        "\n",
        "   Compares memory location (object identity).\n",
        "\n",
        "   Returns True only if both variables point to the exact same object in memory.\n",
        "\n",
        "    Example:\n",
        "\n",
        "    a = [1, 2, 3]\n",
        "    b = [1, 2, 3]\n",
        "\n",
        "    print(a is b)"
      ],
      "metadata": {
        "id": "HN6pGDdrKC9w"
      }
    },
    {
      "cell_type": "markdown",
      "source": [
        " 8.What are logical operators in Python?\n",
        "\n",
        " -Logical operators in Python are used to combine or compare Boolean values (True or False). They help control the flow of your program, especially in conditions and loops.\n",
        "\n",
        "  **1. and (Logical AND)**\n",
        "\n",
        "  Returns True if both conditions are True.\n",
        "\n",
        "  Returns False if any one is False.\n",
        "\n",
        "  **Example:**\n",
        "  \n",
        "  x = 10\n",
        "\n",
        "  print(x > 5 and x < 20)  # True (both conditions are True)\n",
        "\n",
        "  print(x > 5 and x > 20)  # False (second condition is False)\n",
        "  \n",
        "  **2️. or (Logical OR)**\n",
        "\n",
        "  Returns True if at least one condition is True.\n",
        "\n",
        "  Returns False only if both are False.\n",
        "\n",
        "  **Example:**\n",
        "\n",
        "  x = 10\n",
        "  print(x > 5 or x > 20)  # True (first condition is True)\n",
        "  print(x < 5 or x > 20)  # False (both conditions are False)\n",
        "\n",
        "  **3️. not (Logical NOT)**\n",
        "\n",
        "  Reverses the boolean value.\n",
        "\n",
        "  Returns True if the condition is False, and False if the condition is True.\n",
        "\n",
        "  **Example:**\n",
        "\n",
        "  x = 10\n",
        "  print(not(x > 5))  # False (because x > 5 is True, NOT makes it False)"
      ],
      "metadata": {
        "id": "GCayCkN5MLpT"
      }
    },
    {
      "cell_type": "markdown",
      "source": [
        "  9.What is type casting in Python?\n",
        "\n",
        "  -Type casting in Python means converting one data type into another. It's like changing the \"form\" of a value so it fits where we need it.\n",
        "\n",
        " Example:\n",
        "\n",
        "  x = \"5\"         # This is a string\n",
        "\n",
        "  y = int(x)      # Now it's converted to an integer\n",
        "\n",
        "  print(y + 1)   # Output: 6"
      ],
      "metadata": {
        "id": "39qEE-_kO4qH"
      }
    },
    {
      "cell_type": "markdown",
      "source": [
        "10.what is the difference between implicit and explicit type casting?\n",
        "\n",
        "**implicit Casting:**\n",
        "\n",
        "*Done automatically by Python.\n",
        "\n",
        "*Happens when you mix two different types in an expression, and Python converts one type to another safely (no data loss).\n",
        "\n",
        "*Also called Type Promotion.\n",
        "\n",
        "**E.g:**\n",
        "  x = 5       # int\n",
        "  y = 2.5     # float\n",
        "\n",
        "  result = x + y  # int + float → Python converts int to float\n",
        "\n",
        "  print(result)   # 7.5 (float)\n",
        "\n",
        "  Here, x was automatically converted from int to float.\n",
        "\n",
        "**explicit Casting:**\n",
        "\n",
        "*Done manually by the programmer.\n",
        "\n",
        "*You convert data type using built-in functions like int(), float(), str().\n",
        "\n",
        "*Useful when you want full control over data conversion.\n",
        "\n",
        "**E.g:**\n",
        "\n",
        "x = \"100\"       # string\n",
        "\n",
        "y = int(x)      # convert string to int manually\n",
        "\n",
        "print(y + 50)   # 150"
      ],
      "metadata": {
        "id": "lvKbYyPaQ8o8"
      }
    },
    {
      "cell_type": "markdown",
      "source": [
        "\n",
        "11.What is the purpose of conditional statements in Python?\n",
        "\n",
        "  Conditional statements in Python are used to make decisions in your code. They let your program choose what to do based on certain conditions—just like how we make choices in real life.\n",
        "\n",
        " **Purpose of Conditional Statements**\n",
        " * Control the flow of your program\n",
        " * Check if something is true or false\n",
        " * Run different code depending on the situation\n",
        "\n",
        "**E.g:**\n",
        "\n",
        " age = 18\n",
        "\n",
        "if age >= 18:\n",
        "\n",
        "  print(\"You can vote!\")  # This runs if the condition is True\n",
        "\n",
        "else:\n",
        "\n",
        "  print(\"Too young to vote.\")  # This runs if the condition is False\n",
        "\n",
        "if , else And elif this are common conditional keywords."
      ],
      "metadata": {
        "id": "u5wD7lGnS_OM"
      }
    },
    {
      "cell_type": "markdown",
      "source": [
        "12.How does the elif statement work?\n",
        "\n",
        "The elif statement in Python is short for “else if”. It is used when you want to check multiple conditions in order.\n",
        "\n",
        "Python evaluates conditions from top to bottom.\n",
        "\n",
        "The first condition that is True runs its block, and Python skips the rest.\n",
        "\n",
        "If none of the conditions are True, the else block (if provided) runs.\n",
        "\n",
        " **Syntax**:\n",
        "\n",
        "if condition1:\n",
        "\n",
        "    # execute this if condition1 is True\n",
        "\n",
        "elif condition2:\n",
        "\n",
        "    # execute this if condition1 is False but condition2 is True\n",
        "\n",
        "elif condition3:\n",
        "\n",
        "    # execute this if all above are False but condition3 is True\n",
        "\n",
        "else:\n",
        "\n",
        "    # execute this if all conditions are False\n",
        " **Example:**\n",
        "\n",
        "marks = 75\n",
        "\n",
        "if marks >= 90:\n",
        "\n",
        "  print(\"Grade: A+\")\n",
        "elif marks >= 75:\n",
        "\n",
        "  print(\"Grade: A\")\n",
        "\n",
        "elif marks >= 60:\n",
        "\n",
        "   print(\"Grade: B\")\n",
        "\n",
        "else:\n",
        "   print(\"Grade: C\")\n",
        "\n",
        "\n",
        "Output:\n",
        "\n",
        "Grade: A\n",
        "\n",
        "**Explanation:**\n",
        "\n",
        "First, Python checks marks >= 90 → False\n",
        "\n",
        "Then checks marks >= 75 → True → runs this block\n",
        "\n",
        "Python ignores the rest (elif marks >= 60 and else)\n"
      ],
      "metadata": {
        "id": "s7dUyd6TUlPP"
      }
    },
    {
      "cell_type": "markdown",
      "source": [
        " 13.What is the difference between for and while loops?\n",
        "\n",
        " **for Loop** — Loop with a Known Count\n",
        "\n",
        "Used when you know how many times you want to repeat something.\n",
        "\n",
        "Often used to go through items in a list, string, or range.\n",
        "\n",
        "**e.g.:**\n",
        "\n",
        "for i in range(5):\n",
        "\n",
        "  print(i)  # Prints 0 to 4\n",
        "\n",
        "**While Loop** — Loop Until a Condition Changes\n",
        "\n",
        "Used when you don’t know how many times you'll loop.\n",
        "\n",
        "Keeps running as long as a condition is True.\n",
        "\n",
        "**e.g:**\n",
        "\n",
        "i = 0\n",
        "\n",
        "while i < 5:\n",
        "\n",
        "  print(i)\n",
        "  \n",
        "  i += 1"
      ],
      "metadata": {
        "id": "yL5ROmETV66H"
      }
    },
    {
      "cell_type": "markdown",
      "source": [
        "14. Describe a scenario where a while loop is more suitable than a for loop.\n",
        "\n",
        "   building a program for an ATM that asks the user to enter their PIN. You want to keep asking until they enter the correct PIN or after 3 failed attempts.\n",
        "\n",
        "   You don't know how many tries it will take, so a while loop is perfect.\n",
        "\n",
        "\n",
        "  correct_pin = \"1234\"\n",
        "\n",
        "attempts = 0\n",
        "\n",
        "\n",
        "while attempts < 3:\n",
        "\n",
        "   entered_pin = input(\"Enter your PIN: \")\n",
        "\n",
        "   if entered_pin == correct_pin:\n",
        "\n",
        " print(\"Access granted!\")\n",
        "\n",
        "  break\n",
        "\n",
        "   else:\n",
        "\n",
        "   print(\"Incorrect PIN.\")\n",
        "\n",
        "   attempts += 1\n",
        "\n",
        "\n",
        "if attempts == 3:\n",
        "\n",
        "   print(\"Account locked due to too many failed attempts.\")\n",
        "\n",
        "**while is better here because:**\n",
        "\n",
        "we are  looping based on a condition, not a fixed number.\n",
        "\n",
        "we want to stop early if the user gets it right.\n",
        "\n",
        "A for loop would be less flexible for this kind of logic."
      ],
      "metadata": {
        "id": "8LuSqooaXLv2"
      }
    },
    {
      "cell_type": "markdown",
      "source": [
        "  **Practical Questions**"
      ],
      "metadata": {
        "id": "5LByMCKxYsPN"
      }
    },
    {
      "cell_type": "markdown",
      "source": [
        "1. Write a Python program to print \"Hello, World!\n"
      ],
      "metadata": {
        "id": "gh6VszW9ZU17"
      }
    },
    {
      "cell_type": "code",
      "source": [
        "print(\"Hello, World!\")"
      ],
      "metadata": {
        "colab": {
          "base_uri": "https://localhost:8080/"
        },
        "id": "OVAt-zrYY8GO",
        "outputId": "3bc4dfdd-2968-4b3d-890b-1f95ea148f67"
      },
      "execution_count": 1,
      "outputs": [
        {
          "output_type": "stream",
          "name": "stdout",
          "text": [
            "Hello, World!\n"
          ]
        }
      ]
    },
    {
      "cell_type": "markdown",
      "source": [
        "2. Write a Python program that displays your name and age"
      ],
      "metadata": {
        "id": "0bAfbqjsZf1P"
      }
    },
    {
      "cell_type": "code",
      "source": [
        "name = \"Divya\"\n",
        "age = 27\n",
        "print(\"My name is\", name)\n",
        "print(\"My age is\", age)"
      ],
      "metadata": {
        "colab": {
          "base_uri": "https://localhost:8080/"
        },
        "id": "K2-K79SPZn-x",
        "outputId": "3e1725df-7e0a-4ab9-ea34-15220d2429e1"
      },
      "execution_count": 2,
      "outputs": [
        {
          "output_type": "stream",
          "name": "stdout",
          "text": [
            "My name is Divya\n",
            "My age is 27\n"
          ]
        }
      ]
    },
    {
      "cell_type": "markdown",
      "source": [
        "3. Write code to print all the pre-defined keywords in Python using the keyword library"
      ],
      "metadata": {
        "id": "tXNR9lX4Z3T8"
      }
    },
    {
      "cell_type": "code",
      "source": [
        "import keyword\n",
        "\n",
        "print(\"Python Keywords:\")\n",
        "print(keyword.kwlist)"
      ],
      "metadata": {
        "colab": {
          "base_uri": "https://localhost:8080/"
        },
        "id": "MZ83W4H_aA7T",
        "outputId": "fd6d1504-8344-462d-b630-ffd02cfd2612"
      },
      "execution_count": 3,
      "outputs": [
        {
          "output_type": "stream",
          "name": "stdout",
          "text": [
            "Python Keywords:\n",
            "['False', 'None', 'True', 'and', 'as', 'assert', 'async', 'await', 'break', 'class', 'continue', 'def', 'del', 'elif', 'else', 'except', 'finally', 'for', 'from', 'global', 'if', 'import', 'in', 'is', 'lambda', 'nonlocal', 'not', 'or', 'pass', 'raise', 'return', 'try', 'while', 'with', 'yield']\n"
          ]
        }
      ]
    },
    {
      "cell_type": "markdown",
      "source": [
        "4. Write a program that checks if a given word is a Python keyword"
      ],
      "metadata": {
        "id": "eT4LNltoaNzd"
      }
    },
    {
      "cell_type": "code",
      "source": [
        "import keyword\n",
        "\n",
        "\n",
        "word = input(\"Enter a word: \")\n",
        "\n",
        "\n",
        "if keyword.iskeyword(word):\n",
        "    print(f\"'{word}' is a Python keyword \")\n",
        "else:\n",
        "    print(f\"'{word}' is NOT a Python keyword \")"
      ],
      "metadata": {
        "colab": {
          "base_uri": "https://localhost:8080/"
        },
        "id": "KvtMapPrabDC",
        "outputId": "9b9548cb-c4bd-4a61-f734-e58027359815"
      },
      "execution_count": 5,
      "outputs": [
        {
          "output_type": "stream",
          "name": "stdout",
          "text": [
            "Enter a word: if\n",
            "'if' is a Python keyword \n"
          ]
        }
      ]
    },
    {
      "cell_type": "markdown",
      "source": [
        "5. Create a list and tuple in Python, and demonstrate how attempting to change an element works differently\n",
        "for each"
      ],
      "metadata": {
        "id": "sLK0WD21awiX"
      }
    },
    {
      "cell_type": "code",
      "source": [
        "# Creating a list\n",
        "my_list = [10, 20, 30]\n",
        "print(\"Original list:\", my_list)\n",
        "my_list[1] = 99\n",
        "print(\"Modified list:\", my_list)\n",
        "print(\"\\n\")\n",
        "my_tuple = (10, 20, 30)\n",
        "print(\"Original tuple:\", my_tuple)\n",
        "try:\n",
        "    my_tuple[1] = 99\n",
        "except TypeError as e:\n",
        "    print(\"Error:\", e)\n"
      ],
      "metadata": {
        "colab": {
          "base_uri": "https://localhost:8080/"
        },
        "id": "tWfOm8BTa90M",
        "outputId": "fc7ba05e-6662-4ad9-bd31-1490b60b7ce9"
      },
      "execution_count": 6,
      "outputs": [
        {
          "output_type": "stream",
          "name": "stdout",
          "text": [
            "Original list: [10, 20, 30]\n",
            "Modified list: [10, 99, 30]\n",
            "\n",
            "\n",
            "Original tuple: (10, 20, 30)\n",
            "Error: 'tuple' object does not support item assignment\n"
          ]
        }
      ]
    },
    {
      "cell_type": "markdown",
      "source": [
        "6. Write a function to demonstrate the behavior of mutable and immutable arguments."
      ],
      "metadata": {
        "id": "JebplfJsbXpr"
      }
    },
    {
      "cell_type": "code",
      "source": [
        "def modify_args(a_list, a_number):\n",
        "    a_list.append(100)\n",
        "    a_number += 10\n",
        "    print(\"Inside function:\")\n",
        "    print(\"List:\", a_list)\n",
        "    print(\"Number:\", a_number)\n",
        "\n",
        "my_list = [1, 2, 3]\n",
        "my_number = 50\n",
        "\n",
        "print(\"Before function call:\")\n",
        "print(\"List:\", my_list)\n",
        "print(\"Number:\", my_number)\n",
        "\n",
        "modify_args(my_list, my_number)\n",
        "\n",
        "print(\"\\nAfter function call:\")\n",
        "print(\"List:\", my_list)\n",
        "print(\"Number:\", my_number)\n"
      ],
      "metadata": {
        "colab": {
          "base_uri": "https://localhost:8080/"
        },
        "id": "i-ib8YOCbfeE",
        "outputId": "53a9afb0-53c2-4d99-b76b-931deab03f51"
      },
      "execution_count": 7,
      "outputs": [
        {
          "output_type": "stream",
          "name": "stdout",
          "text": [
            "Before function call:\n",
            "List: [1, 2, 3]\n",
            "Number: 50\n",
            "Inside function:\n",
            "List: [1, 2, 3, 100]\n",
            "Number: 60\n",
            "\n",
            "After function call:\n",
            "List: [1, 2, 3, 100]\n",
            "Number: 50\n"
          ]
        }
      ]
    },
    {
      "cell_type": "markdown",
      "source": [
        "\n",
        "\n",
        "7. Write a program that performs basic arithmetic operations on two user-input numbers\n"
      ],
      "metadata": {
        "id": "L37jzdbDbx8T"
      }
    },
    {
      "cell_type": "code",
      "source": [
        "num1 = float(input(\"Enter first number: \"))\n",
        "num2 = float(input(\"Enter second number: \"))\n",
        "\n",
        "addition = num1 + num2\n",
        "subtraction = num1 - num2\n",
        "multiplication = num1 * num2\n",
        "\n",
        "if num2 != 0:\n",
        "    division = num1 / num2\n",
        "else:\n",
        "    division = \"Undefined (division by zero)\"\n",
        "\n",
        "print(\"\\nResults:\")\n",
        "print(\"Addition:\", addition)\n",
        "print(\"Subtraction:\", subtraction)\n",
        "print(\"Multiplication:\", multiplication)\n",
        "print(\"Division:\", division)\n"
      ],
      "metadata": {
        "colab": {
          "base_uri": "https://localhost:8080/"
        },
        "id": "QwH0LT7ZcEbT",
        "outputId": "201410e5-9d3e-418f-a18b-8f5fa391f29f"
      },
      "execution_count": 8,
      "outputs": [
        {
          "output_type": "stream",
          "name": "stdout",
          "text": [
            "Enter first number: 5\n",
            "Enter second number: 23\n",
            "\n",
            "Results:\n",
            "Addition: 28.0\n",
            "Subtraction: -18.0\n",
            "Multiplication: 115.0\n",
            "Division: 0.21739130434782608\n"
          ]
        }
      ]
    },
    {
      "cell_type": "markdown",
      "source": [
        " 8.Write a program to demonstrate the use of logical operators"
      ],
      "metadata": {
        "id": "p565Rc4Ocdra"
      }
    },
    {
      "cell_type": "code",
      "source": [
        "a = True\n",
        "b = False\n",
        "\n",
        "print(\"a =\", a)\n",
        "print(\"b =\", b)\n",
        "\n",
        "print(\"\\nLogical AND (a and b):\", a and b)\n",
        "print(\"Logical OR (a or b):\", a or b)\n",
        "print(\"Logical NOT (not a):\", not a)\n",
        "print(\"Logical NOT (not b):\", not b)\n",
        "\n",
        "# Example with numbers\n",
        "x = 10\n",
        "y = 5\n",
        "\n",
        "print(\"\\n(x > 5 and y < 10):\", x > 5 and y < 10)\n",
        "print(\"(x < 5 or y > 2):\", x < 5 or y > 2)\n",
        "print(\"not (x == y):\", not (x == y))\n"
      ],
      "metadata": {
        "colab": {
          "base_uri": "https://localhost:8080/"
        },
        "id": "i1UtOxgYcdPx",
        "outputId": "db446e56-1104-4dc8-c158-49d714e2303a"
      },
      "execution_count": 9,
      "outputs": [
        {
          "output_type": "stream",
          "name": "stdout",
          "text": [
            "a = True\n",
            "b = False\n",
            "\n",
            "Logical AND (a and b): False\n",
            "Logical OR (a or b): True\n",
            "Logical NOT (not a): False\n",
            "Logical NOT (not b): True\n",
            "\n",
            "(x > 5 and y < 10): True\n",
            "(x < 5 or y > 2): True\n",
            "not (x == y): True\n"
          ]
        }
      ]
    },
    {
      "cell_type": "markdown",
      "source": [
        "9.  Write a Python program to convert user input from string to integer, float, and boolean types.\n"
      ],
      "metadata": {
        "id": "S4-fPzZEc2ZJ"
      }
    },
    {
      "cell_type": "code",
      "source": [
        "user_input = input(\"Enter a value: \")\n",
        "\n",
        "try:\n",
        "    int_value = int(user_input)\n",
        "except ValueError:\n",
        "    int_value = \"Cannot convert to integer\"\n",
        "\n",
        "try:\n",
        "    float_value = float(user_input)\n",
        "except ValueError:\n",
        "    float_value = \"Cannot convert to float\"\n",
        "\n",
        "bool_value = bool(user_input)\n",
        "\n",
        "print(\"Integer:\", int_value)\n",
        "print(\"Float:\", float_value)\n",
        "print(\"Boolean:\", bool_value)\n",
        "\n"
      ],
      "metadata": {
        "colab": {
          "base_uri": "https://localhost:8080/"
        },
        "id": "FNC5uwhec6rG",
        "outputId": "e0ccea55-731b-415e-a3dd-13b610da1db5"
      },
      "execution_count": 12,
      "outputs": [
        {
          "output_type": "stream",
          "name": "stdout",
          "text": [
            "Enter a value: hi\n",
            "Integer: Cannot convert to integer\n",
            "Float: Cannot convert to float\n",
            "Boolean: True\n"
          ]
        }
      ]
    },
    {
      "cell_type": "markdown",
      "source": [
        "10. Write code to demonstrate type casting with list elements"
      ],
      "metadata": {
        "id": "Y-9r5fcCd-iq"
      }
    },
    {
      "cell_type": "code",
      "source": [
        "my_list = [\"10\", \"20\", \"30\", \"40\"]\n",
        "\n",
        "int_list = [int(x) for x in my_list]\n",
        "float_list = [float(x) for x in my_list]\n",
        "str_list = [str(x) for x in int_list]\n",
        "\n",
        "print(\"Original list (strings):\", my_list)\n",
        "print(\"Converted to integers:\", int_list)\n",
        "print(\"Converted to floats:\", float_list)\n",
        "print(\"Converted back to strings:\", str_list)\n"
      ],
      "metadata": {
        "colab": {
          "base_uri": "https://localhost:8080/"
        },
        "id": "E24zZdOEeJe1",
        "outputId": "be10afea-da23-4873-c98d-a1235ef9f974"
      },
      "execution_count": 13,
      "outputs": [
        {
          "output_type": "stream",
          "name": "stdout",
          "text": [
            "Original list (strings): ['10', '20', '30', '40']\n",
            "Converted to integers: [10, 20, 30, 40]\n",
            "Converted to floats: [10.0, 20.0, 30.0, 40.0]\n",
            "Converted back to strings: ['10', '20', '30', '40']\n"
          ]
        }
      ]
    },
    {
      "cell_type": "markdown",
      "source": [
        "11. Write a program that checks if a number is positive, negative, or zero.\n"
      ],
      "metadata": {
        "id": "cHhnDsCaeUoR"
      }
    },
    {
      "cell_type": "code",
      "source": [
        "num = float(input(\"Enter a number: \"))\n",
        "\n",
        "if num > 0:\n",
        "    print(\"The number is positive.\")\n",
        "elif num < 0:\n",
        "    print(\"The number is negative.\")\n",
        "else:\n",
        "    print(\"The number is zero.\")\n"
      ],
      "metadata": {
        "colab": {
          "base_uri": "https://localhost:8080/"
        },
        "id": "DmRt6vvwekMX",
        "outputId": "98c8497b-e176-4806-afe8-4fabfdb538e6"
      },
      "execution_count": 14,
      "outputs": [
        {
          "output_type": "stream",
          "name": "stdout",
          "text": [
            "Enter a number: 5\n",
            "The number is positive.\n"
          ]
        }
      ]
    },
    {
      "cell_type": "markdown",
      "source": [
        " 12. Write a for loop to print numbers from 1 to 10.\n"
      ],
      "metadata": {
        "id": "yUTSqofVerhF"
      }
    },
    {
      "cell_type": "code",
      "source": [
        "for i in range(1, 11):\n",
        "    print(i)\n"
      ],
      "metadata": {
        "colab": {
          "base_uri": "https://localhost:8080/"
        },
        "id": "qw2Na5Fje0XO",
        "outputId": "1c2e6f29-7db1-47d7-c4de-e26c7a7ad092"
      },
      "execution_count": 15,
      "outputs": [
        {
          "output_type": "stream",
          "name": "stdout",
          "text": [
            "1\n",
            "2\n",
            "3\n",
            "4\n",
            "5\n",
            "6\n",
            "7\n",
            "8\n",
            "9\n",
            "10\n"
          ]
        }
      ]
    },
    {
      "cell_type": "markdown",
      "source": [
        "13.  Write a Python program to find the sum of all even numbers between 1 and 50.\n"
      ],
      "metadata": {
        "id": "OuGLjIb2e656"
      }
    },
    {
      "cell_type": "code",
      "source": [
        "sum_even = 0\n",
        "\n",
        "for i in range(1, 51):\n",
        "    if i % 2 == 0:\n",
        "        sum_even += i\n",
        "\n",
        "print(\"Sum of even numbers between 1 and 50:\", sum_even)\n"
      ],
      "metadata": {
        "colab": {
          "base_uri": "https://localhost:8080/"
        },
        "id": "X7-SH92MfABQ",
        "outputId": "70aa7d2f-88f9-495b-c3db-529783d8179d"
      },
      "execution_count": 16,
      "outputs": [
        {
          "output_type": "stream",
          "name": "stdout",
          "text": [
            "Sum of even numbers between 1 and 50: 650\n"
          ]
        }
      ]
    },
    {
      "cell_type": "markdown",
      "source": [
        " 14. Write a program to reverse a string using a while loop.\n"
      ],
      "metadata": {
        "id": "NxtQ5itofNRZ"
      }
    },
    {
      "cell_type": "code",
      "source": [
        "string = input(\"Enter a string: \")\n",
        "reversed_string = \"\"\n",
        "index = len(string) - 1\n",
        "\n",
        "while index >= 0:\n",
        "    reversed_string += string[index]\n",
        "    index -= 1\n",
        "\n",
        "print(\"Reversed string:\", reversed_string)\n"
      ],
      "metadata": {
        "colab": {
          "base_uri": "https://localhost:8080/"
        },
        "id": "8LOSDtkYfT0U",
        "outputId": "816af327-1a34-4252-a273-696975b83056"
      },
      "execution_count": 17,
      "outputs": [
        {
          "output_type": "stream",
          "name": "stdout",
          "text": [
            "Enter a string: Divya\n",
            "Reversed string: ayviD\n"
          ]
        }
      ]
    },
    {
      "cell_type": "markdown",
      "source": [
        " 15. Write a Python program to calculate the factorial of a number provided by the user using a while loop.\n"
      ],
      "metadata": {
        "id": "XqzcTCx5fbDz"
      }
    },
    {
      "cell_type": "code",
      "source": [
        "num = int(input(\"Enter a number: \"))\n",
        "factorial = 1\n",
        "i = 1\n",
        "\n",
        "while i <= num:\n",
        "    factorial *= i\n",
        "    i += 1\n",
        "\n",
        "print(f\"Factorial of {num} is {factorial}\")\n"
      ],
      "metadata": {
        "colab": {
          "base_uri": "https://localhost:8080/"
        },
        "id": "uh7H_0fSfh08",
        "outputId": "0214d3d8-d27f-4f1a-fa4f-d9e27077957d"
      },
      "execution_count": 18,
      "outputs": [
        {
          "output_type": "stream",
          "name": "stdout",
          "text": [
            "Enter a number: 10\n",
            "Factorial of 10 is 3628800\n"
          ]
        }
      ]
    }
  ]
}